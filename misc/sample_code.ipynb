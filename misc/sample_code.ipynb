{
 "cells": [
  {
   "source": [
    "from Ankur -- helpers for loading csv from s3 into memory and for pushing results to s3 "
   ],
   "cell_type": "markdown",
   "metadata": {}
  },
  {
   "cell_type": "code",
   "execution_count": 2,
   "id": "allied-mileage",
   "metadata": {},
   "outputs": [
    {
     "data": {
      "text/html": [
       "<style>.container { width:100% !important; }</style>"
      ],
      "text/plain": [
       "<IPython.core.display.HTML object>"
      ]
     },
     "metadata": {},
     "output_type": "display_data"
    }
   ],
   "source": [
    "from IPython.core.display import display, HTML\n",
    "display(HTML(\"<style>.container { width:100% !important; }</style>\"))"
   ]
  },
  {
   "cell_type": "code",
   "execution_count": 14,
   "id": "molecular-modem",
   "metadata": {},
   "outputs": [],
   "source": [
    "import boto3\n",
    "import pandas as pd\n",
    "import os\n",
    "\n",
    "s3_client = boto3.client('s3')"
   ]
  },
  {
   "cell_type": "markdown",
   "id": "twenty-budget",
   "metadata": {},
   "source": [
    "### 1. Get a list of available buckets in the environment"
   ]
  },
  {
   "cell_type": "code",
   "execution_count": 3,
   "id": "eleven-logan",
   "metadata": {},
   "outputs": [],
   "source": [
    "def list_buckets():\n",
    "    for buckets in s3_client.list_buckets()['Buckets']:\n",
    "        print(buckets['Name'])"
   ]
  },
  {
   "cell_type": "code",
   "execution_count": 10,
   "id": "parallel-thermal",
   "metadata": {},
   "outputs": [
    {
     "name": "stdout",
     "output_type": "stream",
     "text": [
      "aws-glue-scripts-577076019476-us-east-1\n",
      "aws-glue-temporary-577076019476-us-east-1\n",
      "aws-logs-577076019476-us-east-1\n",
      "fhwa-carma-fotda-dev-cfdeploy\n",
      "fotda-preprocessed\n",
      "fotda-raw\n",
      "fotda-s3-bucket\n",
      "fotda-src\n",
      "pre-processed-fotda-cav-modeling\n",
      "preprocessed-carma-core-validation\n",
      "raw-carma-core-validation\n",
      "raw-fotda-cav-modeling\n"
     ]
    }
   ],
   "source": [
    "list_buckets()"
   ]
  },
  {
   "cell_type": "markdown",
   "id": "hazardous-devon",
   "metadata": {},
   "source": [
    "### 2. Get a list of all files within a specific bucket and directory path"
   ]
  },
  {
   "cell_type": "code",
   "execution_count": 9,
   "id": "spatial-bonus",
   "metadata": {},
   "outputs": [],
   "source": [
    "def list_files_from_bucket(bucket, key):\n",
    "    response = s3_client.list_objects(Bucket=bucket, Prefix=key)\n",
    "    s3_objects = response['Contents']\n",
    "#     s3_uri_prefix = f's3://{bucket}'\n",
    "\n",
    "    for obj in s3_objects:\n",
    "        filename = obj['Key'] #f'{s3_uri_prefix}/{obj[\"Key\"]}' #((obj['Key']).split('/'))[-1]\n",
    "        print(filename)"
   ]
  },
  {
   "cell_type": "code",
   "execution_count": 10,
   "id": "meaningful-acting",
   "metadata": {
    "scrolled": true
   },
   "outputs": [
    {
     "name": "stdout",
     "output_type": "stream",
     "text": [
      "csvfiles/Core_Validation_Testing/Facility_Summit_Point/Vehicle_Black_Pacifica/20210318/r1_down-selected/\n",
      "csvfiles/Core_Validation_Testing/Facility_Summit_Point/Vehicle_Black_Pacifica/20210318/r1_down-selected/carma_record_rosparams.csv\n",
      "csvfiles/Core_Validation_Testing/Facility_Summit_Point/Vehicle_Black_Pacifica/20210318/r1_down-selected/carma_system_version.csv\n",
      "csvfiles/Core_Validation_Testing/Facility_Summit_Point/Vehicle_Black_Pacifica/20210318/r1_down-selected/cluster_centroids.csv\n",
      "csvfiles/Core_Validation_Testing/Facility_Summit_Point/Vehicle_Black_Pacifica/20210318/r1_down-selected/detection_fusion_tools_objects.csv\n",
      "csvfiles/Core_Validation_Testing/Facility_Summit_Point/Vehicle_Black_Pacifica/20210318/r1_down-selected/detection_image_detector_objects.csv\n",
      "csvfiles/Core_Validation_Testing/Facility_Summit_Point/Vehicle_Black_Pacifica/20210318/r1_down-selected/detection_lidar_detector_objects.csv\n",
      "csvfiles/Core_Validation_Testing/Facility_Summit_Point/Vehicle_Black_Pacifica/20210318/r1_down-selected/detection_lidar_detector_objects_markers.csv\n",
      "csvfiles/Core_Validation_Testing/Facility_Summit_Point/Vehicle_Black_Pacifica/20210318/r1_down-selected/diagnostics.csv\n",
      "csvfiles/Core_Validation_Testing/Facility_Summit_Point/Vehicle_Black_Pacifica/20210318/r1_down-selected/environment_active_geofence.csv\n",
      "csvfiles/Core_Validation_Testing/Facility_Summit_Point/Vehicle_Black_Pacifica/20210318/r1_down-selected/environment_base_map.csv\n",
      "csvfiles/Core_Validation_Testing/Facility_Summit_Point/Vehicle_Black_Pacifica/20210318/r1_down-selected/environment_external_objects.csv\n",
      "csvfiles/Core_Validation_Testing/Facility_Summit_Point/Vehicle_Black_Pacifica/20210318/r1_down-selected/environment_lanelet2_map_viz.csv\n",
      "csvfiles/Core_Validation_Testing/Facility_Summit_Point/Vehicle_Black_Pacifica/20210318/r1_down-selected/environment_node_status.csv\n",
      "csvfiles/Core_Validation_Testing/Facility_Summit_Point/Vehicle_Black_Pacifica/20210318/r1_down-selected/environment_roadway_objects.csv\n",
      "csvfiles/Core_Validation_Testing/Facility_Summit_Point/Vehicle_Black_Pacifica/20210318/r1_down-selected/environment_semantic_map.csv\n",
      "csvfiles/Core_Validation_Testing/Facility_Summit_Point/Vehicle_Black_Pacifica/20210318/r1_down-selected/guidance_angular_gravity.csv\n",
      "csvfiles/Core_Validation_Testing/Facility_Summit_Point/Vehicle_Black_Pacifica/20210318/r1_down-selected/guidance_carma_final_waypoints.csv\n",
      "csvfiles/Core_Validation_Testing/Facility_Summit_Point/Vehicle_Black_Pacifica/20210318/r1_down-selected/guidance_ctrl_cmd.csv\n",
      "csvfiles/Core_Validation_Testing/Facility_Summit_Point/Vehicle_Black_Pacifica/20210318/r1_down-selected/guidance_ctrl_raw.csv\n",
      "csvfiles/Core_Validation_Testing/Facility_Summit_Point/Vehicle_Black_Pacifica/20210318/r1_down-selected/guidance_deviation_of_current_position.csv\n",
      "csvfiles/Core_Validation_Testing/Facility_Summit_Point/Vehicle_Black_Pacifica/20210318/r1_down-selected/guidance_final_maneuver_plan.csv\n",
      "csvfiles/Core_Validation_Testing/Facility_Summit_Point/Vehicle_Black_Pacifica/20210318/r1_down-selected/guidance_next_target_mark.csv\n",
      "csvfiles/Core_Validation_Testing/Facility_Summit_Point/Vehicle_Black_Pacifica/20210318/r1_down-selected/guidance_next_waypoint_mark.csv\n",
      "csvfiles/Core_Validation_Testing/Facility_Summit_Point/Vehicle_Black_Pacifica/20210318/r1_down-selected/guidance_node_status.csv\n",
      "csvfiles/Core_Validation_Testing/Facility_Summit_Point/Vehicle_Black_Pacifica/20210318/r1_down-selected/guidance_plan_trajectory.csv\n",
      "csvfiles/Core_Validation_Testing/Facility_Summit_Point/Vehicle_Black_Pacifica/20210318/r1_down-selected/guidance_plugin_discovery.csv\n",
      "csvfiles/Core_Validation_Testing/Facility_Summit_Point/Vehicle_Black_Pacifica/20210318/r1_down-selected/guidance_plugins_StopandWaitPlugin_jerk_val.csv\n",
      "csvfiles/Core_Validation_Testing/Facility_Summit_Point/Vehicle_Black_Pacifica/20210318/r1_down-selected/guidance_pure_pursuit_plan_jerk_trajectory.csv\n",
      "csvfiles/Core_Validation_Testing/Facility_Summit_Point/Vehicle_Black_Pacifica/20210318/r1_down-selected/guidance_pure_pursuit_plan_trajectory.csv\n",
      "csvfiles/Core_Validation_Testing/Facility_Summit_Point/Vehicle_Black_Pacifica/20210318/r1_down-selected/guidance_route.csv\n",
      "csvfiles/Core_Validation_Testing/Facility_Summit_Point/Vehicle_Black_Pacifica/20210318/r1_down-selected/guidance_route_event.csv\n",
      "csvfiles/Core_Validation_Testing/Facility_Summit_Point/Vehicle_Black_Pacifica/20210318/r1_down-selected/guidance_route_marker.csv\n",
      "csvfiles/Core_Validation_Testing/Facility_Summit_Point/Vehicle_Black_Pacifica/20210318/r1_down-selected/guidance_route_state.csv\n",
      "csvfiles/Core_Validation_Testing/Facility_Summit_Point/Vehicle_Black_Pacifica/20210318/r1_down-selected/guidance_search_circle_mark.csv\n",
      "csvfiles/Core_Validation_Testing/Facility_Summit_Point/Vehicle_Black_Pacifica/20210318/r1_down-selected/guidance_state.csv\n",
      "csvfiles/Core_Validation_Testing/Facility_Summit_Point/Vehicle_Black_Pacifica/20210318/r1_down-selected/guidance_trajectory_circle_mark.csv\n",
      "csvfiles/Core_Validation_Testing/Facility_Summit_Point/Vehicle_Black_Pacifica/20210318/r1_down-selected/guidance_trajectory_visualizer.csv\n",
      "csvfiles/Core_Validation_Testing/Facility_Summit_Point/Vehicle_Black_Pacifica/20210318/r1_down-selected/guidance_twist_cmd.csv\n",
      "csvfiles/Core_Validation_Testing/Facility_Summit_Point/Vehicle_Black_Pacifica/20210318/r1_down-selected/guidance_twist_filter_limitation_debug_ctrl_lateral_accel.csv\n",
      "csvfiles/Core_Validation_Testing/Facility_Summit_Point/Vehicle_Black_Pacifica/20210318/r1_down-selected/guidance_twist_filter_limitation_debug_ctrl_lateral_jerk.csv\n",
      "csvfiles/Core_Validation_Testing/Facility_Summit_Point/Vehicle_Black_Pacifica/20210318/r1_down-selected/guidance_twist_filter_limitation_debug_twist_lateral_accel.csv\n",
      "csvfiles/Core_Validation_Testing/Facility_Summit_Point/Vehicle_Black_Pacifica/20210318/r1_down-selected/guidance_twist_filter_limitation_debug_twist_lateral_jerk.csv\n",
      "csvfiles/Core_Validation_Testing/Facility_Summit_Point/Vehicle_Black_Pacifica/20210318/r1_down-selected/guidance_twist_filter_result_ctrl_lateral_accel.csv\n",
      "csvfiles/Core_Validation_Testing/Facility_Summit_Point/Vehicle_Black_Pacifica/20210318/r1_down-selected/guidance_twist_filter_result_ctrl_lateral_jerk.csv\n",
      "csvfiles/Core_Validation_Testing/Facility_Summit_Point/Vehicle_Black_Pacifica/20210318/r1_down-selected/guidance_twist_filter_result_twist_lateral_accel.csv\n",
      "csvfiles/Core_Validation_Testing/Facility_Summit_Point/Vehicle_Black_Pacifica/20210318/r1_down-selected/guidance_twist_filter_result_twist_lateral_jerk.csv\n",
      "csvfiles/Core_Validation_Testing/Facility_Summit_Point/Vehicle_Black_Pacifica/20210318/r1_down-selected/guidance_twist_raw.csv\n",
      "csvfiles/Core_Validation_Testing/Facility_Summit_Point/Vehicle_Black_Pacifica/20210318/r1_down-selected/hardware_interface_accelerator_pedal_cmd.csv\n",
      "csvfiles/Core_Validation_Testing/Facility_Summit_Point/Vehicle_Black_Pacifica/20210318/r1_down-selected/hardware_interface_accelerator_pedal_report.csv\n",
      "csvfiles/Core_Validation_Testing/Facility_Summit_Point/Vehicle_Black_Pacifica/20210318/r1_down-selected/hardware_interface_adas_input.csv\n",
      "csvfiles/Core_Validation_Testing/Facility_Summit_Point/Vehicle_Black_Pacifica/20210318/r1_down-selected/hardware_interface_arbitrated_speed_commands.csv\n",
      "csvfiles/Core_Validation_Testing/Facility_Summit_Point/Vehicle_Black_Pacifica/20210318/r1_down-selected/hardware_interface_arbitrated_steering_commands.csv\n",
      "csvfiles/Core_Validation_Testing/Facility_Summit_Point/Vehicle_Black_Pacifica/20210318/r1_down-selected/hardware_interface_bestpos.csv\n",
      "csvfiles/Core_Validation_Testing/Facility_Summit_Point/Vehicle_Black_Pacifica/20210318/r1_down-selected/hardware_interface_bestvel.csv\n",
      "csvfiles/Core_Validation_Testing/Facility_Summit_Point/Vehicle_Black_Pacifica/20210318/r1_down-selected/hardware_interface_brake_2_report.csv\n",
      "csvfiles/Core_Validation_Testing/Facility_Summit_Point/Vehicle_Black_Pacifica/20210318/r1_down-selected/hardware_interface_brake_cmd.csv\n",
      "csvfiles/Core_Validation_Testing/Facility_Summit_Point/Vehicle_Black_Pacifica/20210318/r1_down-selected/hardware_interface_brake_command_echo.csv\n",
      "csvfiles/Core_Validation_Testing/Facility_Summit_Point/Vehicle_Black_Pacifica/20210318/r1_down-selected/hardware_interface_brake_feedback.csv\n",
      "csvfiles/Core_Validation_Testing/Facility_Summit_Point/Vehicle_Black_Pacifica/20210318/r1_down-selected/hardware_interface_brake_report.csv\n",
      "csvfiles/Core_Validation_Testing/Facility_Summit_Point/Vehicle_Black_Pacifica/20210318/r1_down-selected/hardware_interface_cabin_report.csv\n",
      "csvfiles/Core_Validation_Testing/Facility_Summit_Point/Vehicle_Black_Pacifica/20210318/r1_down-selected/hardware_interface_can_rx.csv\n",
      "csvfiles/Core_Validation_Testing/Facility_Summit_Point/Vehicle_Black_Pacifica/20210318/r1_down-selected/hardware_interface_can_tx.csv\n",
      "csvfiles/Core_Validation_Testing/Facility_Summit_Point/Vehicle_Black_Pacifica/20210318/r1_down-selected/hardware_interface_comms_outbound_binary_msg.csv\n",
      "csvfiles/Core_Validation_Testing/Facility_Summit_Point/Vehicle_Black_Pacifica/20210318/r1_down-selected/hardware_interface_controller_robot_status.csv\n",
      "csvfiles/Core_Validation_Testing/Facility_Summit_Point/Vehicle_Black_Pacifica/20210318/r1_down-selected/hardware_interface_corrimudata.csv\n",
      "csvfiles/Core_Validation_Testing/Facility_Summit_Point/Vehicle_Black_Pacifica/20210318/r1_down-selected/hardware_interface_curvature_feedback.csv\n",
      "csvfiles/Core_Validation_Testing/Facility_Summit_Point/Vehicle_Black_Pacifica/20210318/r1_down-selected/hardware_interface_dbw_enabled.csv\n",
      "csvfiles/Core_Validation_Testing/Facility_Summit_Point/Vehicle_Black_Pacifica/20210318/r1_down-selected/hardware_interface_driver_discovery.csv\n",
      "csvfiles/Core_Validation_Testing/Facility_Summit_Point/Vehicle_Black_Pacifica/20210318/r1_down-selected/hardware_interface_driver_input_report.csv\n",
      "csvfiles/Core_Validation_Testing/Facility_Summit_Point/Vehicle_Black_Pacifica/20210318/r1_down-selected/hardware_interface_dsrc_parameter_descriptions.csv\n",
      "csvfiles/Core_Validation_Testing/Facility_Summit_Point/Vehicle_Black_Pacifica/20210318/r1_down-selected/hardware_interface_dsrc_parameter_updates.csv\n",
      "csvfiles/Core_Validation_Testing/Facility_Summit_Point/Vehicle_Black_Pacifica/20210318/r1_down-selected/hardware_interface_dual_antenna_heading.csv\n",
      "csvfiles/Core_Validation_Testing/Facility_Summit_Point/Vehicle_Black_Pacifica/20210318/r1_down-selected/hardware_interface_enable.csv\n",
      "csvfiles/Core_Validation_Testing/Facility_Summit_Point/Vehicle_Black_Pacifica/20210318/r1_down-selected/hardware_interface_fault_actions_report.csv\n",
      "csvfiles/Core_Validation_Testing/Facility_Summit_Point/Vehicle_Black_Pacifica/20210318/r1_down-selected/hardware_interface_fix.csv\n",
      "csvfiles/Core_Validation_Testing/Facility_Summit_Point/Vehicle_Black_Pacifica/20210318/r1_down-selected/hardware_interface_gear_cmd.csv\n",
      "csvfiles/Core_Validation_Testing/Facility_Summit_Point/Vehicle_Black_Pacifica/20210318/r1_down-selected/hardware_interface_gear_command_echo.csv\n",
      "csvfiles/Core_Validation_Testing/Facility_Summit_Point/Vehicle_Black_Pacifica/20210318/r1_down-selected/hardware_interface_gear_feedback.csv\n",
      "csvfiles/Core_Validation_Testing/Facility_Summit_Point/Vehicle_Black_Pacifica/20210318/r1_down-selected/hardware_interface_gear_report.csv\n",
      "csvfiles/Core_Validation_Testing/Facility_Summit_Point/Vehicle_Black_Pacifica/20210318/r1_down-selected/hardware_interface_gear_select.csv\n",
      "csvfiles/Core_Validation_Testing/Facility_Summit_Point/Vehicle_Black_Pacifica/20210318/r1_down-selected/hardware_interface_global_enable_cmd.csv\n",
      "csvfiles/Core_Validation_Testing/Facility_Summit_Point/Vehicle_Black_Pacifica/20210318/r1_down-selected/hardware_interface_gnss_fix_fused.csv\n",
      "csvfiles/Core_Validation_Testing/Facility_Summit_Point/Vehicle_Black_Pacifica/20210318/r1_down-selected/hardware_interface_gpgga.csv\n",
      "csvfiles/Core_Validation_Testing/Facility_Summit_Point/Vehicle_Black_Pacifica/20210318/r1_down-selected/hardware_interface_gprmc.csv\n",
      "csvfiles/Core_Validation_Testing/Facility_Summit_Point/Vehicle_Black_Pacifica/20210318/r1_down-selected/hardware_interface_gps.csv\n",
      "csvfiles/Core_Validation_Testing/Facility_Summit_Point/Vehicle_Black_Pacifica/20210318/r1_down-selected/hardware_interface_imu_data_raw.csv\n",
      "csvfiles/Core_Validation_Testing/Facility_Summit_Point/Vehicle_Black_Pacifica/20210318/r1_down-selected/hardware_interface_imu_raw.csv\n",
      "csvfiles/Core_Validation_Testing/Facility_Summit_Point/Vehicle_Black_Pacifica/20210318/r1_down-selected/hardware_interface_inscov.csv\n",
      "csvfiles/Core_Validation_Testing/Facility_Summit_Point/Vehicle_Black_Pacifica/20210318/r1_down-selected/hardware_interface_inspva.csv\n",
      "csvfiles/Core_Validation_Testing/Facility_Summit_Point/Vehicle_Black_Pacifica/20210318/r1_down-selected/hardware_interface_inspvax.csv\n",
      "csvfiles/Core_Validation_Testing/Facility_Summit_Point/Vehicle_Black_Pacifica/20210318/r1_down-selected/hardware_interface_insstdev.csv\n",
      "csvfiles/Core_Validation_Testing/Facility_Summit_Point/Vehicle_Black_Pacifica/20210318/r1_down-selected/hardware_interface_joint_states.csv\n",
      "csvfiles/Core_Validation_Testing/Facility_Summit_Point/Vehicle_Black_Pacifica/20210318/r1_down-selected/hardware_interface_lightbar_light_bar_status.csv\n",
      "csvfiles/Core_Validation_Testing/Facility_Summit_Point/Vehicle_Black_Pacifica/20210318/r1_down-selected/hardware_interface_lightbar_manager_indicator_control.csv\n",
      "csvfiles/Core_Validation_Testing/Facility_Summit_Point/Vehicle_Black_Pacifica/20210318/r1_down-selected/hardware_interface_low_voltage_system_report.csv\n",
      "csvfiles/Core_Validation_Testing/Facility_Summit_Point/Vehicle_Black_Pacifica/20210318/r1_down-selected/hardware_interface_menus_input.csv\n",
      "csvfiles/Core_Validation_Testing/Facility_Summit_Point/Vehicle_Black_Pacifica/20210318/r1_down-selected/hardware_interface_misc_cmd.csv\n",
      "csvfiles/Core_Validation_Testing/Facility_Summit_Point/Vehicle_Black_Pacifica/20210318/r1_down-selected/hardware_interface_misc_report.csv\n",
      "csvfiles/Core_Validation_Testing/Facility_Summit_Point/Vehicle_Black_Pacifica/20210318/r1_down-selected/hardware_interface_module_states.csv\n",
      "csvfiles/Core_Validation_Testing/Facility_Summit_Point/Vehicle_Black_Pacifica/20210318/r1_down-selected/hardware_interface_nodelet_manager_bond.csv\n",
      "csvfiles/Core_Validation_Testing/Facility_Summit_Point/Vehicle_Black_Pacifica/20210318/r1_down-selected/hardware_interface_speed_model_config.csv\n",
      "csvfiles/Core_Validation_Testing/Facility_Summit_Point/Vehicle_Black_Pacifica/20210318/r1_down-selected/hardware_interface_speed_pedals.csv\n",
      "csvfiles/Core_Validation_Testing/Facility_Summit_Point/Vehicle_Black_Pacifica/20210318/r1_down-selected/hardware_interface_steering_2_report.csv\n",
      "csvfiles/Core_Validation_Testing/Facility_Summit_Point/Vehicle_Black_Pacifica/20210318/r1_down-selected/hardware_interface_steering_cmd.csv\n",
      "csvfiles/Core_Validation_Testing/Facility_Summit_Point/Vehicle_Black_Pacifica/20210318/r1_down-selected/hardware_interface_steering_command_echo.csv\n",
      "csvfiles/Core_Validation_Testing/Facility_Summit_Point/Vehicle_Black_Pacifica/20210318/r1_down-selected/hardware_interface_steering_feedback.csv\n",
      "csvfiles/Core_Validation_Testing/Facility_Summit_Point/Vehicle_Black_Pacifica/20210318/r1_down-selected/hardware_interface_steering_model_config.csv\n",
      "csvfiles/Core_Validation_Testing/Facility_Summit_Point/Vehicle_Black_Pacifica/20210318/r1_down-selected/hardware_interface_steering_report.csv\n",
      "csvfiles/Core_Validation_Testing/Facility_Summit_Point/Vehicle_Black_Pacifica/20210318/r1_down-selected/hardware_interface_steering_wheel.csv\n",
      "csvfiles/Core_Validation_Testing/Facility_Summit_Point/Vehicle_Black_Pacifica/20210318/r1_down-selected/hardware_interface_surround_report.csv\n",
      "csvfiles/Core_Validation_Testing/Facility_Summit_Point/Vehicle_Black_Pacifica/20210318/r1_down-selected/hardware_interface_throttle_command_echo.csv\n",
      "csvfiles/Core_Validation_Testing/Facility_Summit_Point/Vehicle_Black_Pacifica/20210318/r1_down-selected/hardware_interface_throttle_feedback.csv\n",
      "csvfiles/Core_Validation_Testing/Facility_Summit_Point/Vehicle_Black_Pacifica/20210318/r1_down-selected/hardware_interface_tire_pressure_report.csv\n",
      "csvfiles/Core_Validation_Testing/Facility_Summit_Point/Vehicle_Black_Pacifica/20210318/r1_down-selected/hardware_interface_turn_signal_command.csv\n",
      "csvfiles/Core_Validation_Testing/Facility_Summit_Point/Vehicle_Black_Pacifica/20210318/r1_down-selected/hardware_interface_veh_controller_config.csv\n",
      "csvfiles/Core_Validation_Testing/Facility_Summit_Point/Vehicle_Black_Pacifica/20210318/r1_down-selected/hardware_interface_veh_interface_config.csv\n",
      "csvfiles/Core_Validation_Testing/Facility_Summit_Point/Vehicle_Black_Pacifica/20210318/r1_down-selected/hardware_interface_vehicle_cmd.csv\n",
      "csvfiles/Core_Validation_Testing/Facility_Summit_Point/Vehicle_Black_Pacifica/20210318/r1_down-selected/hardware_interface_vehicle_engage.csv\n",
      "csvfiles/Core_Validation_Testing/Facility_Summit_Point/Vehicle_Black_Pacifica/20210318/r1_down-selected/hardware_interface_vehicle_platform.csv\n",
      "csvfiles/Core_Validation_Testing/Facility_Summit_Point/Vehicle_Black_Pacifica/20210318/r1_down-selected/hardware_interface_vehicle_status.csv\n",
      "csvfiles/Core_Validation_Testing/Facility_Summit_Point/Vehicle_Black_Pacifica/20210318/r1_down-selected/hardware_interface_vehicle_twist.csv\n",
      "csvfiles/Core_Validation_Testing/Facility_Summit_Point/Vehicle_Black_Pacifica/20210318/r1_down-selected/hardware_interface_velocity_accel_cov.csv\n",
      "csvfiles/Core_Validation_Testing/Facility_Summit_Point/Vehicle_Black_Pacifica/20210318/r1_down-selected/hardware_interface_velodyne_nodelet_manager_bond.csv\n",
      "csvfiles/Core_Validation_Testing/Facility_Summit_Point/Vehicle_Black_Pacifica/20210318/r1_down-selected/hardware_interface_velodyne_nodelet_manager_cloud_parameter_descriptions.csv\n",
      "csvfiles/Core_Validation_Testing/Facility_Summit_Point/Vehicle_Black_Pacifica/20210318/r1_down-selected/hardware_interface_velodyne_nodelet_manager_cloud_parameter_updates.csv\n",
      "csvfiles/Core_Validation_Testing/Facility_Summit_Point/Vehicle_Black_Pacifica/20210318/r1_down-selected/hardware_interface_velodyne_nodelet_manager_driver_parameter_descriptions.csv\n",
      "csvfiles/Core_Validation_Testing/Facility_Summit_Point/Vehicle_Black_Pacifica/20210318/r1_down-selected/hardware_interface_velodyne_nodelet_manager_driver_parameter_updates.csv\n",
      "csvfiles/Core_Validation_Testing/Facility_Summit_Point/Vehicle_Black_Pacifica/20210318/r1_down-selected/hardware_interface_velodyne_nodelet_manager_laserscan_parameter_descriptions.csv\n",
      "csvfiles/Core_Validation_Testing/Facility_Summit_Point/Vehicle_Black_Pacifica/20210318/r1_down-selected/hardware_interface_velodyne_nodelet_manager_laserscan_parameter_updates.csv\n",
      "csvfiles/Core_Validation_Testing/Facility_Summit_Point/Vehicle_Black_Pacifica/20210318/r1_down-selected/hardware_interface_wheel_position_report.csv\n",
      "csvfiles/Core_Validation_Testing/Facility_Summit_Point/Vehicle_Black_Pacifica/20210318/r1_down-selected/hardware_interface_wheel_speed_report.csv\n",
      "csvfiles/Core_Validation_Testing/Facility_Summit_Point/Vehicle_Black_Pacifica/20210318/r1_down-selected/localization_config_random_filter.csv\n",
      "csvfiles/Core_Validation_Testing/Facility_Summit_Point/Vehicle_Black_Pacifica/20210318/r1_down-selected/localization_config_voxel_grid_filter.csv\n",
      "csvfiles/Core_Validation_Testing/Facility_Summit_Point/Vehicle_Black_Pacifica/20210318/r1_down-selected/localization_current_pose.csv\n",
      "csvfiles/Core_Validation_Testing/Facility_Summit_Point/Vehicle_Black_Pacifica/20210318/r1_down-selected/localization_ecef_pose_with_cov.csv\n",
      "csvfiles/Core_Validation_Testing/Facility_Summit_Point/Vehicle_Black_Pacifica/20210318/r1_down-selected/localization_ekf_localizer_debug.csv\n",
      "csvfiles/Core_Validation_Testing/Facility_Summit_Point/Vehicle_Black_Pacifica/20210318/r1_down-selected/localization_ekf_localizer_debug_measured_pose.csv\n",
      "csvfiles/Core_Validation_Testing/Facility_Summit_Point/Vehicle_Black_Pacifica/20210318/r1_down-selected/localization_ekf_localizer_estimated_yaw_bias.csv\n",
      "csvfiles/Core_Validation_Testing/Facility_Summit_Point/Vehicle_Black_Pacifica/20210318/r1_down-selected/localization_ekf_pose_with_covariance.csv\n",
      "csvfiles/Core_Validation_Testing/Facility_Summit_Point/Vehicle_Black_Pacifica/20210318/r1_down-selected/localization_ekf_twist.csv\n",
      "csvfiles/Core_Validation_Testing/Facility_Summit_Point/Vehicle_Black_Pacifica/20210318/r1_down-selected/localization_ekf_twist_with_covariance.csv\n",
      "csvfiles/Core_Validation_Testing/Facility_Summit_Point/Vehicle_Black_Pacifica/20210318/r1_down-selected/localization_estimate_twist.csv\n",
      "csvfiles/Core_Validation_Testing/Facility_Summit_Point/Vehicle_Black_Pacifica/20210318/r1_down-selected/localization_estimated_vel.csv\n",
      "csvfiles/Core_Validation_Testing/Facility_Summit_Point/Vehicle_Black_Pacifica/20210318/r1_down-selected/localization_estimated_vel_kmph.csv\n",
      "csvfiles/Core_Validation_Testing/Facility_Summit_Point/Vehicle_Black_Pacifica/20210318/r1_down-selected/localization_estimated_vel_mps.csv\n",
      "csvfiles/Core_Validation_Testing/Facility_Summit_Point/Vehicle_Black_Pacifica/20210318/r1_down-selected/localization_gnss_pose.csv\n",
      "csvfiles/Core_Validation_Testing/Facility_Summit_Point/Vehicle_Black_Pacifica/20210318/r1_down-selected/localization_initialpose.csv\n",
      "csvfiles/Core_Validation_Testing/Facility_Summit_Point/Vehicle_Black_Pacifica/20210318/r1_down-selected/localization_localization_status.csv\n",
      "csvfiles/Core_Validation_Testing/Facility_Summit_Point/Vehicle_Black_Pacifica/20210318/r1_down-selected/localization_localizer_pose.csv\n",
      "csvfiles/Core_Validation_Testing/Facility_Summit_Point/Vehicle_Black_Pacifica/20210318/r1_down-selected/localization_managed_initialpose.csv\n",
      "csvfiles/Core_Validation_Testing/Facility_Summit_Point/Vehicle_Black_Pacifica/20210318/r1_down-selected/localization_map_param_loader_georeference.csv\n",
      "csvfiles/Core_Validation_Testing/Facility_Summit_Point/Vehicle_Black_Pacifica/20210318/r1_down-selected/localization_ndt_pose.csv\n",
      "csvfiles/Core_Validation_Testing/Facility_Summit_Point/Vehicle_Black_Pacifica/20210318/r1_down-selected/localization_ndt_reliability.csv\n",
      "csvfiles/Core_Validation_Testing/Facility_Summit_Point/Vehicle_Black_Pacifica/20210318/r1_down-selected/localization_ndt_stat.csv\n",
      "csvfiles/Core_Validation_Testing/Facility_Summit_Point/Vehicle_Black_Pacifica/20210318/r1_down-selected/localization_node_status.csv\n",
      "csvfiles/Core_Validation_Testing/Facility_Summit_Point/Vehicle_Black_Pacifica/20210318/r1_down-selected/localization_pmap_stat.csv\n",
      "csvfiles/Core_Validation_Testing/Facility_Summit_Point/Vehicle_Black_Pacifica/20210318/r1_down-selected/localization_points_downsampler_info.csv\n",
      "csvfiles/Core_Validation_Testing/Facility_Summit_Point/Vehicle_Black_Pacifica/20210318/r1_down-selected/localization_predict_pose.csv\n",
      "csvfiles/Core_Validation_Testing/Facility_Summit_Point/Vehicle_Black_Pacifica/20210318/r1_down-selected/localization_predict_pose_imu.csv\n",
      "csvfiles/Core_Validation_Testing/Facility_Summit_Point/Vehicle_Black_Pacifica/20210318/r1_down-selected/localization_predict_pose_imu_odom.csv\n",
      "csvfiles/Core_Validation_Testing/Facility_Summit_Point/Vehicle_Black_Pacifica/20210318/r1_down-selected/localization_predict_pose_odom.csv\n",
      "csvfiles/Core_Validation_Testing/Facility_Summit_Point/Vehicle_Black_Pacifica/20210318/r1_down-selected/localization_selected_pose.csv\n",
      "csvfiles/Core_Validation_Testing/Facility_Summit_Point/Vehicle_Black_Pacifica/20210318/r1_down-selected/localization_time_ndt_matching.csv\n",
      "csvfiles/Core_Validation_Testing/Facility_Summit_Point/Vehicle_Black_Pacifica/20210318/r1_down-selected/localization_vehicle_odom.csv\n",
      "csvfiles/Core_Validation_Testing/Facility_Summit_Point/Vehicle_Black_Pacifica/20210318/r1_down-selected/message_bsm_outbound.csv\n",
      "csvfiles/Core_Validation_Testing/Facility_Summit_Point/Vehicle_Black_Pacifica/20210318/r1_down-selected/message_outgoing_geofence_request.csv\n",
      "csvfiles/Core_Validation_Testing/Facility_Summit_Point/Vehicle_Black_Pacifica/20210318/r1_down-selected/message_outgoing_j2735_bsm.csv\n",
      "csvfiles/Core_Validation_Testing/Facility_Summit_Point/Vehicle_Black_Pacifica/20210318/r1_down-selected/message_outgoing_j2735_geofence_request.csv\n",
      "csvfiles/Core_Validation_Testing/Facility_Summit_Point/Vehicle_Black_Pacifica/20210318/r1_down-selected/prediction_motion_predictor_path_markers.csv\n",
      "csvfiles/Core_Validation_Testing/Facility_Summit_Point/Vehicle_Black_Pacifica/20210318/r1_down-selected/system_alert.csv\n",
      "csvfiles/Core_Validation_Testing/Facility_Summit_Point/Vehicle_Black_Pacifica/20210318/r1_down-selected/tf.csv\n",
      "csvfiles/Core_Validation_Testing/Facility_Summit_Point/Vehicle_Black_Pacifica/20210318/r1_down-selected/tf_static.csv\n",
      "csvfiles/Core_Validation_Testing/Facility_Summit_Point/Vehicle_Black_Pacifica/20210318/r1_down-selected/ui_client_count.csv\n",
      "csvfiles/Core_Validation_Testing/Facility_Summit_Point/Vehicle_Black_Pacifica/20210318/r1_down-selected/ui_connected_clients.csv\n"
     ]
    }
   ],
   "source": [
    "bucket = 'preprocessed-carma-core-validation'\n",
    "key = 'csvfiles/Core_Validation_Testing/Facility_Summit_Point/Vehicle_Black_Pacifica/20210318/r1_down-selected/'\n",
    "list_files_from_bucket(bucket, key)"
   ]
  },
  {
   "cell_type": "markdown",
   "id": "psychological-particle",
   "metadata": {},
   "source": [
    "### 3. Import and load a csv file from S3 as pandas dataframe for further analysis"
   ]
  },
  {
   "cell_type": "code",
   "execution_count": 11,
   "id": "practical-compression",
   "metadata": {},
   "outputs": [],
   "source": [
    "file_name = \"csvfiles/Core_Validation_Testing/Facility_Summit_Point/Vehicle_Black_Pacifica/20210318/r1_down-selected/hardware_interface_gps.csv\"\n",
    "obj = s3_client.get_object(Bucket=bucket, Key=file_name)\n",
    "df = pd.read_csv(obj['Body'])"
   ]
  },
  {
   "cell_type": "code",
   "execution_count": 8,
   "id": "wanted-minnesota",
   "metadata": {},
   "outputs": [
    {
     "data": {
      "text/html": [
       "<div>\n",
       "<style scoped>\n",
       "    .dataframe tbody tr th:only-of-type {\n",
       "        vertical-align: middle;\n",
       "    }\n",
       "\n",
       "    .dataframe tbody tr th {\n",
       "        vertical-align: top;\n",
       "    }\n",
       "\n",
       "    .dataframe thead th {\n",
       "        text-align: right;\n",
       "    }\n",
       "</style>\n",
       "<table border=\"1\" class=\"dataframe\">\n",
       "  <thead>\n",
       "    <tr style=\"text-align: right;\">\n",
       "      <th></th>\n",
       "      <th>rosbagTimestamp</th>\n",
       "      <th>header</th>\n",
       "      <th>seq</th>\n",
       "      <th>stamp</th>\n",
       "      <th>secs</th>\n",
       "      <th>nsecs</th>\n",
       "      <th>frame_id</th>\n",
       "      <th>status</th>\n",
       "      <th>header.1</th>\n",
       "      <th>seq.1</th>\n",
       "      <th>...</th>\n",
       "      <th>err_vert</th>\n",
       "      <th>err_track</th>\n",
       "      <th>err_speed</th>\n",
       "      <th>err_climb</th>\n",
       "      <th>err_time</th>\n",
       "      <th>err_pitch</th>\n",
       "      <th>err_roll</th>\n",
       "      <th>err_dip</th>\n",
       "      <th>position_covariance</th>\n",
       "      <th>position_covariance_type</th>\n",
       "    </tr>\n",
       "  </thead>\n",
       "  <tbody>\n",
       "    <tr>\n",
       "      <th>3166</th>\n",
       "      <td>1616001691142760328</td>\n",
       "      <td>NaN</td>\n",
       "      <td>3881</td>\n",
       "      <td>NaN</td>\n",
       "      <td>1615962331</td>\n",
       "      <td>132123772</td>\n",
       "      <td>\"novatel_gnss\"</td>\n",
       "      <td>NaN</td>\n",
       "      <td>NaN</td>\n",
       "      <td>0</td>\n",
       "      <td>...</td>\n",
       "      <td>1.085184</td>\n",
       "      <td>0.0</td>\n",
       "      <td>0.0</td>\n",
       "      <td>0.0</td>\n",
       "      <td>0.0</td>\n",
       "      <td>0.0</td>\n",
       "      <td>0.0</td>\n",
       "      <td>0.0</td>\n",
       "      <td>[0.1479666673219846, 0.0, 0.0, 0.0, 0.19790024...</td>\n",
       "      <td>2</td>\n",
       "    </tr>\n",
       "    <tr>\n",
       "      <th>3167</th>\n",
       "      <td>1616001691169042476</td>\n",
       "      <td>NaN</td>\n",
       "      <td>3882</td>\n",
       "      <td>NaN</td>\n",
       "      <td>1615962331</td>\n",
       "      <td>150420307</td>\n",
       "      <td>\"novatel_gnss\"</td>\n",
       "      <td>NaN</td>\n",
       "      <td>NaN</td>\n",
       "      <td>0</td>\n",
       "      <td>...</td>\n",
       "      <td>1.085184</td>\n",
       "      <td>0.0</td>\n",
       "      <td>0.0</td>\n",
       "      <td>0.0</td>\n",
       "      <td>0.0</td>\n",
       "      <td>0.0</td>\n",
       "      <td>0.0</td>\n",
       "      <td>0.0</td>\n",
       "      <td>[0.1479666673219846, 0.0, 0.0, 0.0, 0.19790024...</td>\n",
       "      <td>2</td>\n",
       "    </tr>\n",
       "    <tr>\n",
       "      <th>3168</th>\n",
       "      <td>1616001691227908616</td>\n",
       "      <td>NaN</td>\n",
       "      <td>3883</td>\n",
       "      <td>NaN</td>\n",
       "      <td>1615962331</td>\n",
       "      <td>223609075</td>\n",
       "      <td>\"novatel_gnss\"</td>\n",
       "      <td>NaN</td>\n",
       "      <td>NaN</td>\n",
       "      <td>0</td>\n",
       "      <td>...</td>\n",
       "      <td>1.085184</td>\n",
       "      <td>0.0</td>\n",
       "      <td>0.0</td>\n",
       "      <td>0.0</td>\n",
       "      <td>0.0</td>\n",
       "      <td>0.0</td>\n",
       "      <td>0.0</td>\n",
       "      <td>0.0</td>\n",
       "      <td>[0.1479666673219846, 0.0, 0.0, 0.0, 0.19790024...</td>\n",
       "      <td>2</td>\n",
       "    </tr>\n",
       "    <tr>\n",
       "      <th>3169</th>\n",
       "      <td>1616001691254512285</td>\n",
       "      <td>NaN</td>\n",
       "      <td>3884</td>\n",
       "      <td>NaN</td>\n",
       "      <td>1615962331</td>\n",
       "      <td>248298834</td>\n",
       "      <td>\"novatel_gnss\"</td>\n",
       "      <td>NaN</td>\n",
       "      <td>NaN</td>\n",
       "      <td>0</td>\n",
       "      <td>...</td>\n",
       "      <td>1.085184</td>\n",
       "      <td>0.0</td>\n",
       "      <td>0.0</td>\n",
       "      <td>0.0</td>\n",
       "      <td>0.0</td>\n",
       "      <td>0.0</td>\n",
       "      <td>0.0</td>\n",
       "      <td>0.0</td>\n",
       "      <td>[0.1479666673219846, 0.0, 0.0, 0.0, 0.19790024...</td>\n",
       "      <td>2</td>\n",
       "    </tr>\n",
       "    <tr>\n",
       "      <th>3170</th>\n",
       "      <td>1616001691290042559</td>\n",
       "      <td>NaN</td>\n",
       "      <td>3885</td>\n",
       "      <td>NaN</td>\n",
       "      <td>1615962331</td>\n",
       "      <td>281937172</td>\n",
       "      <td>\"novatel_gnss\"</td>\n",
       "      <td>NaN</td>\n",
       "      <td>NaN</td>\n",
       "      <td>0</td>\n",
       "      <td>...</td>\n",
       "      <td>1.085184</td>\n",
       "      <td>0.0</td>\n",
       "      <td>0.0</td>\n",
       "      <td>0.0</td>\n",
       "      <td>0.0</td>\n",
       "      <td>0.0</td>\n",
       "      <td>0.0</td>\n",
       "      <td>0.0</td>\n",
       "      <td>[0.1479666673219846, 0.0, 0.0, 0.0, 0.19790024...</td>\n",
       "      <td>2</td>\n",
       "    </tr>\n",
       "  </tbody>\n",
       "</table>\n",
       "<p>5 rows × 52 columns</p>\n",
       "</div>"
      ],
      "text/plain": [
       "          rosbagTimestamp  header   seq  stamp        secs      nsecs  \\\n",
       "3166  1616001691142760328     NaN  3881    NaN  1615962331  132123772   \n",
       "3167  1616001691169042476     NaN  3882    NaN  1615962331  150420307   \n",
       "3168  1616001691227908616     NaN  3883    NaN  1615962331  223609075   \n",
       "3169  1616001691254512285     NaN  3884    NaN  1615962331  248298834   \n",
       "3170  1616001691290042559     NaN  3885    NaN  1615962331  281937172   \n",
       "\n",
       "            frame_id  status  header.1  seq.1  ...  err_vert  err_track  \\\n",
       "3166  \"novatel_gnss\"     NaN       NaN      0  ...  1.085184        0.0   \n",
       "3167  \"novatel_gnss\"     NaN       NaN      0  ...  1.085184        0.0   \n",
       "3168  \"novatel_gnss\"     NaN       NaN      0  ...  1.085184        0.0   \n",
       "3169  \"novatel_gnss\"     NaN       NaN      0  ...  1.085184        0.0   \n",
       "3170  \"novatel_gnss\"     NaN       NaN      0  ...  1.085184        0.0   \n",
       "\n",
       "      err_speed err_climb  err_time err_pitch  err_roll err_dip  \\\n",
       "3166        0.0       0.0       0.0       0.0       0.0     0.0   \n",
       "3167        0.0       0.0       0.0       0.0       0.0     0.0   \n",
       "3168        0.0       0.0       0.0       0.0       0.0     0.0   \n",
       "3169        0.0       0.0       0.0       0.0       0.0     0.0   \n",
       "3170        0.0       0.0       0.0       0.0       0.0     0.0   \n",
       "\n",
       "                                    position_covariance  \\\n",
       "3166  [0.1479666673219846, 0.0, 0.0, 0.0, 0.19790024...   \n",
       "3167  [0.1479666673219846, 0.0, 0.0, 0.0, 0.19790024...   \n",
       "3168  [0.1479666673219846, 0.0, 0.0, 0.0, 0.19790024...   \n",
       "3169  [0.1479666673219846, 0.0, 0.0, 0.0, 0.19790024...   \n",
       "3170  [0.1479666673219846, 0.0, 0.0, 0.0, 0.19790024...   \n",
       "\n",
       "     position_covariance_type  \n",
       "3166                        2  \n",
       "3167                        2  \n",
       "3168                        2  \n",
       "3169                        2  \n",
       "3170                        2  \n",
       "\n",
       "[5 rows x 52 columns]"
      ]
     },
     "execution_count": 8,
     "metadata": {},
     "output_type": "execute_result"
    }
   ],
   "source": [
    "df.tail()"
   ]
  },
  {
   "cell_type": "code",
   "execution_count": 9,
   "id": "noticed-georgia",
   "metadata": {},
   "outputs": [
    {
     "data": {
      "text/plain": [
       "array(['rosbagTimestamp', 'header', 'seq', 'stamp', 'secs', 'nsecs',\n",
       "       'frame_id', 'status', 'header.1', 'seq.1', 'stamp.1', 'secs.1',\n",
       "       'nsecs.1', 'frame_id.1', 'satellites_used', 'satellite_used_prn',\n",
       "       'satellites_visible', 'satellite_visible_prn',\n",
       "       'satellite_visible_z', 'satellite_visible_azimuth',\n",
       "       'satellite_visible_snr', 'status.1', 'motion_source',\n",
       "       'orientation_source', 'position_source', 'latitude', 'longitude',\n",
       "       'altitude', 'track', 'speed', 'climb', 'pitch', 'roll', 'dip',\n",
       "       'time', 'gdop', 'pdop', 'hdop', 'vdop', 'tdop', 'err', 'err_horz',\n",
       "       'err_vert', 'err_track', 'err_speed', 'err_climb', 'err_time',\n",
       "       'err_pitch', 'err_roll', 'err_dip', 'position_covariance',\n",
       "       'position_covariance_type'], dtype=object)"
      ]
     },
     "execution_count": 9,
     "metadata": {},
     "output_type": "execute_result"
    }
   ],
   "source": [
    "df.columns.values"
   ]
  },
  {
   "cell_type": "markdown",
   "id": "secure-composer",
   "metadata": {},
   "source": [
    "### 4. Download a file from S3"
   ]
  },
  {
   "cell_type": "code",
   "execution_count": 6,
   "id": "informative-leeds",
   "metadata": {},
   "outputs": [],
   "source": [
    "def download_from_s3(s3_filename, local_filename):\n",
    "    return os.system(f'aws s3 cp {s3_filename} {local_filename}')"
   ]
  },
  {
   "cell_type": "code",
   "execution_count": 17,
   "id": "hourly-fisher",
   "metadata": {},
   "outputs": [
    {
     "data": {
      "text/plain": [
       "0"
      ]
     },
     "execution_count": 17,
     "metadata": {},
     "output_type": "execute_result"
    }
   ],
   "source": [
    "s3_filename = f's3://{bucket}/{file_name}' #bucket variable is from Step2 and filename variable is from step3 above\n",
    "local_filename = 'C:\\\\Users\\\\zankur.tyagi.ctr\\\\Documents\\\\Core_Validation\\\\bagfiles' #change this path to your local user account\n",
    "download_from_s3(s3_filename, local_filename)"
   ]
  },
  {
   "cell_type": "markdown",
   "id": "diverse-diabetes",
   "metadata": {},
   "source": [
    "### 5. Upload file to S3"
   ]
  },
  {
   "cell_type": "code",
   "execution_count": 16,
   "id": "pregnant-fiction",
   "metadata": {},
   "outputs": [],
   "source": [
    "def upload_to_s3(local_filename, s3_filename):\n",
    "    return os.system(f'aws s3 cp {local_filename} {s3_filename}')"
   ]
  },
  {
   "cell_type": "code",
   "execution_count": 18,
   "id": "minute-grave",
   "metadata": {},
   "outputs": [
    {
     "data": {
      "text/plain": [
       "0"
      ]
     },
     "execution_count": 18,
     "metadata": {},
     "output_type": "execute_result"
    }
   ],
   "source": [
    "local_filename = 'C:\\\\Users\\\\zankur.tyagi.ctr\\\\Documents\\\\Core_Validation\\\\bagfiles\\\\hardware_interface_gps.csv'\n",
    "s3_filename = 's3://fotda-raw/bagfiles/Core_Validation_Testing/Facility_Summit_Point/logs/'\n",
    "upload_to_s3(local_filename, s3_filename)"
   ]
  }
 ],
 "metadata": {
  "kernelspec": {
   "display_name": "Python 3",
   "language": "python",
   "name": "python3"
  },
  "language_info": {
   "codemirror_mode": {
    "name": "ipython",
    "version": 3
   },
   "file_extension": ".py",
   "mimetype": "text/x-python",
   "name": "python",
   "nbconvert_exporter": "python",
   "pygments_lexer": "ipython3",
   "version": "3.8.8"
  }
 },
 "nbformat": 4,
 "nbformat_minor": 5
}